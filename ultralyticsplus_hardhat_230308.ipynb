{
 "cells": [
  {
   "cell_type": "markdown",
   "id": "8680a1bd",
   "metadata": {},
   "source": [
    "### Install repository to allows IPython to use Google Drive for file management"
   ]
  },
  {
   "cell_type": "code",
   "execution_count": 2,
   "id": "d97cfa7c",
   "metadata": {},
   "outputs": [
    {
     "ename": "SyntaxError",
     "evalue": "invalid syntax (2892740807.py, line 2)",
     "output_type": "error",
     "traceback": [
      "\u001b[1;36m  Input \u001b[1;32mIn [2]\u001b[1;36m\u001b[0m\n\u001b[1;33m    pip install -e jupyter-drive\u001b[0m\n\u001b[1;37m        ^\u001b[0m\n\u001b[1;31mSyntaxError\u001b[0m\u001b[1;31m:\u001b[0m invalid syntax\n"
     ]
    }
   ],
   "source": [
    "git clone git://github.com/jupyter/jupyter-drive.git\n",
    "pip install -e jupyter-drive"
   ]
  },
  {
   "cell_type": "markdown",
   "id": "b2346581",
   "metadata": {},
   "source": [
    "### To install the notebook extension and activate your configuration with Google Drive"
   ]
  },
  {
   "cell_type": "code",
   "execution_count": null,
   "id": "8945cde9",
   "metadata": {},
   "outputs": [],
   "source": [
    "python -m jupyterdrive"
   ]
  },
  {
   "cell_type": "code",
   "execution_count": null,
   "id": "49450241",
   "metadata": {},
   "outputs": [],
   "source": [
    "pip install --upgrade google-api-python-client google-auth-httplib2 google-auth-oauthlib"
   ]
  },
  {
   "cell_type": "code",
   "execution_count": null,
   "id": "Bil8BdXsiuYN",
   "metadata": {
    "colab": {
     "base_uri": "https://localhost:8080/"
    },
    "id": "Bil8BdXsiuYN",
    "outputId": "2028a10e-8818-4aa3-8cdb-3b2d0d618783"
   },
   "outputs": [],
   "source": [
    "from google.colab import drive\n",
    "drive.mount('/content/drive')"
   ]
  },
  {
   "cell_type": "code",
   "execution_count": null,
   "id": "HaQgrtA5ixYU",
   "metadata": {
    "id": "HaQgrtA5ixYU"
   },
   "outputs": [],
   "source": [
    "DataFolder = \"/content/drive/MyDrive/SDAAI/Capstone Project\""
   ]
  },
  {
   "cell_type": "code",
   "execution_count": null,
   "id": "LAZxnFlSeivS",
   "metadata": {
    "colab": {
     "base_uri": "https://localhost:8080/"
    },
    "id": "LAZxnFlSeivS",
    "outputId": "978ba053-659b-4f36-b5ca-b153dbc0d45f"
   },
   "outputs": [],
   "source": [
    "pip install ultralyticsplus"
   ]
  },
  {
   "cell_type": "code",
   "execution_count": null,
   "id": "sJx595MZmMRF",
   "metadata": {
    "colab": {
     "base_uri": "https://localhost:8080/"
    },
    "id": "sJx595MZmMRF",
    "outputId": "83cb0e7e-1aeb-419f-dffc-cb4f5c20d054"
   },
   "outputs": [],
   "source": [
    "import torch\n",
    "import cv2\n",
    "# Model\n",
    "model = torch.hub.load('ultralytics/yolov5', 'yolov5s') "
   ]
  },
  {
   "cell_type": "code",
   "execution_count": null,
   "id": "UaBoz7FrjTtG",
   "metadata": {
    "colab": {
     "base_uri": "https://localhost:8080/"
    },
    "id": "UaBoz7FrjTtG",
    "outputId": "f816262b-c8b1-4073-c0b5-68ac8b483d80"
   },
   "outputs": [],
   "source": [
    "#image_path = DataFolder+\"/Safety Hat/Images/hard_hat_workers0.png\" # or file, Path, PIL, OpenCV, numpy, list\n",
    "image_path = DataFolder+\"/Safety Hat/Images/Helmet-Example01.jpg\"\n",
    "\n",
    "# Inference\n",
    "results = model(image_path) \n",
    "\n",
    "# Results\n",
    "results.print()  # or .show(), .save(), .crop(), .pandas(), etc."
   ]
  },
  {
   "cell_type": "code",
   "execution_count": null,
   "id": "eihFAsSlon6O",
   "metadata": {
    "colab": {
     "base_uri": "https://localhost:8080/",
     "height": 832
    },
    "id": "eihFAsSlon6O",
    "outputId": "35beb3b5-4cd1-48eb-d779-a22e810e94fb"
   },
   "outputs": [],
   "source": [
    "results.show()\n",
    "print(results.pandas().xyxy[0])\n",
    "\n",
    "for i in range(len(results.pandas().xyxy[0].name)):\n",
    "    print(\"Object\",i,results.pandas().xyxy[0].name[i])"
   ]
  },
  {
   "cell_type": "code",
   "execution_count": null,
   "id": "810d6b94",
   "metadata": {
    "colab": {
     "base_uri": "https://localhost:8080/",
     "height": 886
    },
    "id": "810d6b94",
    "outputId": "b6c629c3-e874-47d9-e479-9d1556c2cb43"
   },
   "outputs": [],
   "source": [
    "from ultralyticsplus import YOLO, render_result\n",
    "\n",
    "# load model\n",
    "model = YOLO('keremberke/yolov8m-hard-hat-detection')\n",
    "\n",
    "# set model parameters\n",
    "model.overrides['conf'] = 0.25  # NMS confidence threshold\n",
    "model.overrides['iou'] = 0.45  # NMS IoU threshold\n",
    "model.overrides['agnostic_nms'] = False  # NMS class-agnostic\n",
    "model.overrides['max_det'] = 1000  # maximum number of detections per image\n",
    "\n",
    "# set image\n",
    "#image = 'https://github.com/RP-SDAAI/Capstone-Project/blob/72573878f2546c1c2984c3e1006ef8e7c72672ec/Helmet-Example01.jpg'\n",
    "\n",
    "#image = 'https://github.com/ultralytics/yolov5/raw/master/data/images/zidane.jpg'\n",
    "\n",
    "# perform inference\n",
    "results = model.predict(image_path)\n",
    "\n",
    "# observe results\n",
    "print(results[0].boxes)\n",
    "render = render_result(model=model, image=image_path, result=results[0])\n",
    "render.show()"
   ]
  },
  {
   "cell_type": "code",
   "execution_count": null,
   "id": "09VDWx93EHj0",
   "metadata": {
    "colab": {
     "base_uri": "https://localhost:8080/"
    },
    "id": "09VDWx93EHj0",
    "outputId": "a3f67ab7-0d45-477a-d3a7-6e2988bf0468"
   },
   "outputs": [],
   "source": [
    "vid = cv2.VideoCapture(0) # For streaming links (#0 : Computer Webcam. Otherwise need to know the RTSP Url of the Webcam, or the IP address that connect directly to the CCTV)\n",
    "while True:\n",
    "\trdy,frame = vid.read()\n",
    "\tprint(rdy)\n",
    "\ttry:\n",
    "\t  cv2.imshow('Video Live IP cam',frame)\n",
    "\t  key = cv2.waitKey(1) & 0xFF\n",
    "\t  if key ==ord('q'):\n",
    "\t    break\n",
    "\texcept:\n",
    "\t\tpass\n",
    "\n",
    "vid.release()\n",
    "cv2.destroyAllWindows()"
   ]
  },
  {
   "cell_type": "code",
   "execution_count": null,
   "id": "193b480e",
   "metadata": {
    "id": "193b480e"
   },
   "outputs": [],
   "source": []
  }
 ],
 "metadata": {
  "colab": {
   "provenance": []
  },
  "kernelspec": {
   "display_name": "Python 3 (ipykernel)",
   "language": "python",
   "name": "python3"
  },
  "language_info": {
   "codemirror_mode": {
    "name": "ipython",
    "version": 3
   },
   "file_extension": ".py",
   "mimetype": "text/x-python",
   "name": "python",
   "nbconvert_exporter": "python",
   "pygments_lexer": "ipython3",
   "version": "3.9.12"
  }
 },
 "nbformat": 4,
 "nbformat_minor": 5
}

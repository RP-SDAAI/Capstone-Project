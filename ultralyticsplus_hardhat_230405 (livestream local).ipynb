{
 "cells": [
  {
   "cell_type": "markdown",
   "id": "8680a1bd",
   "metadata": {
    "id": "8680a1bd"
   },
   "source": [
    "### Install repository to allows IPython to use Google Drive for file management"
   ]
  },
  {
   "cell_type": "code",
   "execution_count": 1,
   "id": "d97cfa7c",
   "metadata": {
    "id": "d97cfa7c"
   },
   "outputs": [],
   "source": [
    "#git clone git://github.com/jupyter/jupyter-drive.git\n",
    "#pip install -e jupyter-drive"
   ]
  },
  {
   "cell_type": "markdown",
   "id": "b2346581",
   "metadata": {
    "id": "b2346581"
   },
   "source": [
    "### To install the notebook extension and activate your configuration with Google Drive"
   ]
  },
  {
   "cell_type": "code",
   "execution_count": 2,
   "id": "8945cde9",
   "metadata": {
    "id": "8945cde9"
   },
   "outputs": [],
   "source": [
    "#python -m jupyterdrive"
   ]
  },
  {
   "cell_type": "code",
   "execution_count": 3,
   "id": "49450241",
   "metadata": {
    "colab": {
     "base_uri": "https://localhost:8080/"
    },
    "id": "49450241",
    "outputId": "a91d9b67-dbf8-48b1-e9fb-2fbf5f78a2c5",
    "scrolled": true
   },
   "outputs": [
    {
     "name": "stdout",
     "output_type": "stream",
     "text": [
      "Requirement already satisfied: google-api-python-client in c:\\users\\admin\\anaconda3\\lib\\site-packages (2.80.0)\n",
      "Collecting google-api-python-client\n",
      "  Downloading google_api_python_client-2.83.0-py2.py3-none-any.whl (11.2 MB)\n",
      "Requirement already satisfied: google-auth-httplib2 in c:\\users\\admin\\anaconda3\\lib\\site-packages (0.1.0)\n",
      "Requirement already satisfied: google-auth-oauthlib in c:\\users\\admin\\anaconda3\\lib\\site-packages (0.4.6)\n",
      "Collecting google-auth-oauthlib\n",
      "  Using cached google_auth_oauthlib-1.0.0-py2.py3-none-any.whl (18 kB)\n",
      "Requirement already satisfied: httplib2<1dev,>=0.15.0 in c:\\users\\admin\\anaconda3\\lib\\site-packages (from google-api-python-client) (0.21.0)\n",
      "Requirement already satisfied: google-api-core!=2.0.*,!=2.1.*,!=2.2.*,!=2.3.0,<3.0.0dev,>=1.31.5 in c:\\users\\admin\\anaconda3\\lib\\site-packages (from google-api-python-client) (2.10.0)\n",
      "Requirement already satisfied: uritemplate<5,>=3.0.1 in c:\\users\\admin\\anaconda3\\lib\\site-packages (from google-api-python-client) (4.1.1)\n",
      "Requirement already satisfied: google-auth<3.0.0dev,>=1.19.0 in c:\\users\\admin\\anaconda3\\lib\\site-packages (from google-api-python-client) (2.16.2)\n",
      "Requirement already satisfied: six in c:\\users\\admin\\anaconda3\\lib\\site-packages (from google-auth-httplib2) (1.16.0)\n",
      "Requirement already satisfied: requests-oauthlib>=0.7.0 in c:\\users\\admin\\anaconda3\\lib\\site-packages (from google-auth-oauthlib) (1.3.1)\n",
      "Requirement already satisfied: requests<3.0.0dev,>=2.18.0 in c:\\users\\admin\\anaconda3\\lib\\site-packages (from google-api-core!=2.0.*,!=2.1.*,!=2.2.*,!=2.3.0,<3.0.0dev,>=1.31.5->google-api-python-client) (2.27.1)\n",
      "Collecting protobuf<5.0.0dev,>=3.20.1\n",
      "  Downloading protobuf-4.22.1-cp39-cp39-win_amd64.whl (420 kB)\n",
      "Requirement already satisfied: googleapis-common-protos<2.0dev,>=1.56.2 in c:\\users\\admin\\anaconda3\\lib\\site-packages (from google-api-core!=2.0.*,!=2.1.*,!=2.2.*,!=2.3.0,<3.0.0dev,>=1.31.5->google-api-python-client) (1.56.4)\n",
      "Requirement already satisfied: pyasn1-modules>=0.2.1 in c:\\users\\admin\\anaconda3\\lib\\site-packages (from google-auth<3.0.0dev,>=1.19.0->google-api-python-client) (0.2.8)\n",
      "Requirement already satisfied: rsa<5,>=3.1.4 in c:\\users\\admin\\anaconda3\\lib\\site-packages (from google-auth<3.0.0dev,>=1.19.0->google-api-python-client) (4.7.2)\n",
      "Requirement already satisfied: cachetools<6.0,>=2.0.0 in c:\\users\\admin\\anaconda3\\lib\\site-packages (from google-auth<3.0.0dev,>=1.19.0->google-api-python-client) (4.2.2)\n",
      "Requirement already satisfied: pyparsing!=3.0.0,!=3.0.1,!=3.0.2,!=3.0.3,<4,>=2.4.2 in c:\\users\\admin\\anaconda3\\lib\\site-packages (from httplib2<1dev,>=0.15.0->google-api-python-client) (3.0.4)\n",
      "Requirement already satisfied: pyasn1<0.5.0,>=0.4.6 in c:\\users\\admin\\anaconda3\\lib\\site-packages (from pyasn1-modules>=0.2.1->google-auth<3.0.0dev,>=1.19.0->google-api-python-client) (0.4.8)\n",
      "Requirement already satisfied: certifi>=2017.4.17 in c:\\users\\admin\\anaconda3\\lib\\site-packages (from requests<3.0.0dev,>=2.18.0->google-api-core!=2.0.*,!=2.1.*,!=2.2.*,!=2.3.0,<3.0.0dev,>=1.31.5->google-api-python-client) (2021.10.8)\n",
      "Requirement already satisfied: charset-normalizer~=2.0.0 in c:\\users\\admin\\anaconda3\\lib\\site-packages (from requests<3.0.0dev,>=2.18.0->google-api-core!=2.0.*,!=2.1.*,!=2.2.*,!=2.3.0,<3.0.0dev,>=1.31.5->google-api-python-client) (2.0.4)\n",
      "Requirement already satisfied: idna<4,>=2.5 in c:\\users\\admin\\anaconda3\\lib\\site-packages (from requests<3.0.0dev,>=2.18.0->google-api-core!=2.0.*,!=2.1.*,!=2.2.*,!=2.3.0,<3.0.0dev,>=1.31.5->google-api-python-client) (3.3)\n",
      "Requirement already satisfied: urllib3<1.27,>=1.21.1 in c:\\users\\admin\\anaconda3\\lib\\site-packages (from requests<3.0.0dev,>=2.18.0->google-api-core!=2.0.*,!=2.1.*,!=2.2.*,!=2.3.0,<3.0.0dev,>=1.31.5->google-api-python-client) (1.26.14)\n",
      "Requirement already satisfied: oauthlib>=3.0.0 in c:\\users\\admin\\anaconda3\\lib\\site-packages (from requests-oauthlib>=0.7.0->google-auth-oauthlib) (3.2.0)\n",
      "Installing collected packages: protobuf, google-auth-oauthlib, google-api-python-client\n",
      "  Attempting uninstall: protobuf\n",
      "    Found existing installation: protobuf 3.19.6\n",
      "    Uninstalling protobuf-3.19.6:\n",
      "      Successfully uninstalled protobuf-3.19.6\n",
      "  Attempting uninstall: google-auth-oauthlib\n",
      "    Found existing installation: google-auth-oauthlib 0.4.6\n",
      "    Uninstalling google-auth-oauthlib-0.4.6:\n",
      "      Successfully uninstalled google-auth-oauthlib-0.4.6\n",
      "  Attempting uninstall: google-api-python-client\n",
      "    Found existing installation: google-api-python-client 2.80.0\n",
      "    Uninstalling google-api-python-client-2.80.0:\n",
      "      Successfully uninstalled google-api-python-client-2.80.0\n",
      "Successfully installed google-api-python-client-2.83.0 google-auth-oauthlib-1.0.0 protobuf-4.22.1\n",
      "Note: you may need to restart the kernel to use updated packages.\n"
     ]
    },
    {
     "name": "stderr",
     "output_type": "stream",
     "text": [
      "WARNING: Ignoring invalid distribution -illow (c:\\users\\admin\\anaconda3\\lib\\site-packages)\n",
      "WARNING: Ignoring invalid distribution -illow (c:\\users\\admin\\anaconda3\\lib\\site-packages)\n",
      "WARNING: Ignoring invalid distribution -illow (c:\\users\\admin\\anaconda3\\lib\\site-packages)\n",
      "    WARNING: Ignoring invalid distribution -illow (c:\\users\\admin\\anaconda3\\lib\\site-packages)\n",
      "    WARNING: Ignoring invalid distribution -illow (c:\\users\\admin\\anaconda3\\lib\\site-packages)\n",
      "    WARNING: Ignoring invalid distribution -illow (c:\\users\\admin\\anaconda3\\lib\\site-packages)\n",
      "WARNING: Ignoring invalid distribution -illow (c:\\users\\admin\\anaconda3\\lib\\site-packages)\n",
      "WARNING: Ignoring invalid distribution -illow (c:\\users\\admin\\anaconda3\\lib\\site-packages)\n",
      "WARNING: Ignoring invalid distribution -illow (c:\\users\\admin\\anaconda3\\lib\\site-packages)\n",
      "ERROR: pip's dependency resolver does not currently take into account all the packages that are installed. This behaviour is the source of the following dependency conflicts.\n",
      "tensorflow 2.9.1 requires protobuf<3.20,>=3.9.2, but you have protobuf 4.22.1 which is incompatible.\n",
      "tensorboard 2.9.1 requires google-auth-oauthlib<0.5,>=0.4.1, but you have google-auth-oauthlib 1.0.0 which is incompatible.\n",
      "tensorboard 2.9.1 requires protobuf<3.20,>=3.9.2, but you have protobuf 4.22.1 which is incompatible.\n",
      "streamlit 1.19.0 requires protobuf<4,>=3.12, but you have protobuf 4.22.1 which is incompatible.\n",
      "label-studio 1.7.1 requires google-auth==2.11.0, but you have google-auth 2.16.2 which is incompatible.\n",
      "google-cloud-logging 2.7.2 requires protobuf<4.0.0dev, but you have protobuf 4.22.1 which is incompatible.\n",
      "WARNING: Ignoring invalid distribution -illow (c:\\users\\admin\\anaconda3\\lib\\site-packages)\n",
      "WARNING: Ignoring invalid distribution -illow (c:\\users\\admin\\anaconda3\\lib\\site-packages)\n",
      "WARNING: Ignoring invalid distribution -illow (c:\\users\\admin\\anaconda3\\lib\\site-packages)\n"
     ]
    }
   ],
   "source": [
    "pip install --upgrade google-api-python-client google-auth-httplib2 google-auth-oauthlib"
   ]
  },
  {
   "cell_type": "code",
   "execution_count": 4,
   "id": "Bil8BdXsiuYN",
   "metadata": {
    "colab": {
     "base_uri": "https://localhost:8080/"
    },
    "id": "Bil8BdXsiuYN",
    "outputId": "4cadaa11-2411-4284-c733-629b62e0ab80"
   },
   "outputs": [
    {
     "ename": "ModuleNotFoundError",
     "evalue": "No module named 'google.colab'",
     "output_type": "error",
     "traceback": [
      "\u001b[1;31m---------------------------------------------------------------------------\u001b[0m",
      "\u001b[1;31mModuleNotFoundError\u001b[0m                       Traceback (most recent call last)",
      "Input \u001b[1;32mIn [4]\u001b[0m, in \u001b[0;36m<cell line: 1>\u001b[1;34m()\u001b[0m\n\u001b[1;32m----> 1\u001b[0m \u001b[38;5;28;01mfrom\u001b[39;00m \u001b[38;5;21;01mgoogle\u001b[39;00m\u001b[38;5;21;01m.\u001b[39;00m\u001b[38;5;21;01mcolab\u001b[39;00m \u001b[38;5;28;01mimport\u001b[39;00m drive\n\u001b[0;32m      2\u001b[0m drive\u001b[38;5;241m.\u001b[39mmount(\u001b[38;5;124m'\u001b[39m\u001b[38;5;124m/content/drive\u001b[39m\u001b[38;5;124m'\u001b[39m)\n",
      "\u001b[1;31mModuleNotFoundError\u001b[0m: No module named 'google.colab'"
     ]
    }
   ],
   "source": [
    "from google.colab import drive\n",
    "drive.mount('/content/drive')"
   ]
  },
  {
   "cell_type": "code",
   "execution_count": null,
   "id": "HaQgrtA5ixYU",
   "metadata": {
    "id": "HaQgrtA5ixYU"
   },
   "outputs": [],
   "source": [
    "DataFolder = \"/content/drive/MyDrive/SDAAI/Capstone-Project\""
   ]
  },
  {
   "cell_type": "code",
   "execution_count": 1,
   "id": "LAZxnFlSeivS",
   "metadata": {
    "colab": {
     "base_uri": "https://localhost:8080/"
    },
    "id": "LAZxnFlSeivS",
    "outputId": "ea8480aa-991e-463e-9bd7-dd4fe0cea194"
   },
   "outputs": [
    {
     "name": "stdout",
     "output_type": "stream",
     "text": [
      "Requirement already satisfied: ultralyticsplus in c:\\users\\admin\\anaconda3\\envs\\sdaai\\lib\\site-packages (0.0.28)\n",
      "Requirement already satisfied: huggingface-hub>=0.12.0 in c:\\users\\admin\\anaconda3\\envs\\sdaai\\lib\\site-packages (from ultralyticsplus) (0.13.3)\n",
      "Requirement already satisfied: pandas in c:\\users\\admin\\anaconda3\\envs\\sdaai\\lib\\site-packages (from ultralyticsplus) (1.4.3)\n",
      "Requirement already satisfied: fire in c:\\users\\admin\\anaconda3\\envs\\sdaai\\lib\\site-packages (from ultralyticsplus) (0.5.0)\n",
      "Requirement already satisfied: ultralytics<8.0.44,>=8.0.43 in c:\\users\\admin\\anaconda3\\envs\\sdaai\\lib\\site-packages (from ultralyticsplus) (8.0.43)\n",
      "Requirement already satisfied: sahi<0.12.0,>=0.11.11 in c:\\users\\admin\\anaconda3\\envs\\sdaai\\lib\\site-packages (from ultralyticsplus) (0.11.13)\n",
      "Requirement already satisfied: typing-extensions>=3.7.4.3 in c:\\users\\admin\\anaconda3\\envs\\sdaai\\lib\\site-packages (from huggingface-hub>=0.12.0->ultralyticsplus) (4.3.0)\n",
      "Requirement already satisfied: tqdm>=4.42.1 in c:\\users\\admin\\anaconda3\\envs\\sdaai\\lib\\site-packages (from huggingface-hub>=0.12.0->ultralyticsplus) (4.65.0)\n",
      "Requirement already satisfied: pyyaml>=5.1 in c:\\users\\admin\\anaconda3\\envs\\sdaai\\lib\\site-packages (from huggingface-hub>=0.12.0->ultralyticsplus) (6.0)\n",
      "Requirement already satisfied: packaging>=20.9 in c:\\users\\admin\\anaconda3\\envs\\sdaai\\lib\\site-packages (from huggingface-hub>=0.12.0->ultralyticsplus) (21.3)\n",
      "Requirement already satisfied: filelock in c:\\users\\admin\\anaconda3\\envs\\sdaai\\lib\\site-packages (from huggingface-hub>=0.12.0->ultralyticsplus) (3.10.7)\n",
      "Requirement already satisfied: requests in c:\\users\\admin\\anaconda3\\envs\\sdaai\\lib\\site-packages (from huggingface-hub>=0.12.0->ultralyticsplus) (2.28.1)\n",
      "Requirement already satisfied: shapely>=1.8.0 in c:\\users\\admin\\anaconda3\\envs\\sdaai\\lib\\site-packages (from sahi<0.12.0,>=0.11.11->ultralyticsplus) (2.0.1)\n",
      "Requirement already satisfied: pybboxes==0.1.6 in c:\\users\\admin\\anaconda3\\envs\\sdaai\\lib\\site-packages (from sahi<0.12.0,>=0.11.11->ultralyticsplus) (0.1.6)\n",
      "Requirement already satisfied: terminaltables in c:\\users\\admin\\anaconda3\\envs\\sdaai\\lib\\site-packages (from sahi<0.12.0,>=0.11.11->ultralyticsplus) (3.1.10)\n",
      "Requirement already satisfied: opencv-python>=4.2.0.32 in c:\\users\\admin\\anaconda3\\envs\\sdaai\\lib\\site-packages (from sahi<0.12.0,>=0.11.11->ultralyticsplus) (4.6.0.66)\n",
      "Requirement already satisfied: click==8.0.4 in c:\\users\\admin\\anaconda3\\envs\\sdaai\\lib\\site-packages (from sahi<0.12.0,>=0.11.11->ultralyticsplus) (8.0.4)\n",
      "Requirement already satisfied: pillow>=8.2.0 in c:\\users\\admin\\anaconda3\\envs\\sdaai\\lib\\site-packages (from sahi<0.12.0,>=0.11.11->ultralyticsplus) (9.2.0)\n",
      "Requirement already satisfied: colorama in c:\\users\\admin\\anaconda3\\envs\\sdaai\\lib\\site-packages (from click==8.0.4->sahi<0.12.0,>=0.11.11->ultralyticsplus) (0.4.5)\n",
      "Requirement already satisfied: numpy in c:\\users\\admin\\anaconda3\\envs\\sdaai\\lib\\site-packages (from pybboxes==0.1.6->sahi<0.12.0,>=0.11.11->ultralyticsplus) (1.23.1)\n",
      "Requirement already satisfied: wheel>=0.38.0 in c:\\users\\admin\\anaconda3\\envs\\sdaai\\lib\\site-packages (from ultralytics<8.0.44,>=8.0.43->ultralyticsplus) (0.40.0)\n",
      "Requirement already satisfied: thop>=0.1.1 in c:\\users\\admin\\anaconda3\\envs\\sdaai\\lib\\site-packages (from ultralytics<8.0.44,>=8.0.43->ultralyticsplus) (0.1.1.post2209072238)\n",
      "Requirement already satisfied: seaborn>=0.11.0 in c:\\users\\admin\\anaconda3\\envs\\sdaai\\lib\\site-packages (from ultralytics<8.0.44,>=8.0.43->ultralyticsplus) (0.11.2)\n",
      "Requirement already satisfied: sentry-sdk in c:\\users\\admin\\anaconda3\\envs\\sdaai\\lib\\site-packages (from ultralytics<8.0.44,>=8.0.43->ultralyticsplus) (1.19.0)\n",
      "Requirement already satisfied: scipy>=1.4.1 in c:\\users\\admin\\anaconda3\\envs\\sdaai\\lib\\site-packages (from ultralytics<8.0.44,>=8.0.43->ultralyticsplus) (1.8.1)\n",
      "Requirement already satisfied: torchvision>=0.8.1 in c:\\users\\admin\\anaconda3\\envs\\sdaai\\lib\\site-packages (from ultralytics<8.0.44,>=8.0.43->ultralyticsplus) (0.15.1)\n",
      "Requirement already satisfied: psutil in c:\\users\\admin\\anaconda3\\envs\\sdaai\\lib\\site-packages (from ultralytics<8.0.44,>=8.0.43->ultralyticsplus) (5.9.1)\n",
      "Requirement already satisfied: matplotlib>=3.2.2 in c:\\users\\admin\\anaconda3\\envs\\sdaai\\lib\\site-packages (from ultralytics<8.0.44,>=8.0.43->ultralyticsplus) (3.5.2)\n",
      "Requirement already satisfied: tensorboard>=2.4.1 in c:\\users\\admin\\anaconda3\\envs\\sdaai\\lib\\site-packages (from ultralytics<8.0.44,>=8.0.43->ultralyticsplus) (2.9.1)\n",
      "Requirement already satisfied: torch>=1.7.0 in c:\\users\\admin\\anaconda3\\envs\\sdaai\\lib\\site-packages (from ultralytics<8.0.44,>=8.0.43->ultralyticsplus) (2.0.0)\n",
      "Requirement already satisfied: pytz>=2020.1 in c:\\users\\admin\\anaconda3\\envs\\sdaai\\lib\\site-packages (from pandas->ultralyticsplus) (2022.1)\n",
      "Requirement already satisfied: python-dateutil>=2.8.1 in c:\\users\\admin\\anaconda3\\envs\\sdaai\\lib\\site-packages (from pandas->ultralyticsplus) (2.8.2)\n",
      "Requirement already satisfied: termcolor in c:\\users\\admin\\anaconda3\\envs\\sdaai\\lib\\site-packages (from fire->ultralyticsplus) (1.1.0)\n",
      "Requirement already satisfied: six in c:\\users\\admin\\anaconda3\\envs\\sdaai\\lib\\site-packages (from fire->ultralyticsplus) (1.16.0)\n",
      "Requirement already satisfied: cycler>=0.10 in c:\\users\\admin\\anaconda3\\envs\\sdaai\\lib\\site-packages (from matplotlib>=3.2.2->ultralytics<8.0.44,>=8.0.43->ultralyticsplus) (0.11.0)\n",
      "Requirement already satisfied: pyparsing>=2.2.1 in c:\\users\\admin\\anaconda3\\envs\\sdaai\\lib\\site-packages (from matplotlib>=3.2.2->ultralytics<8.0.44,>=8.0.43->ultralyticsplus) (3.0.9)\n",
      "Requirement already satisfied: fonttools>=4.22.0 in c:\\users\\admin\\anaconda3\\envs\\sdaai\\lib\\site-packages (from matplotlib>=3.2.2->ultralytics<8.0.44,>=8.0.43->ultralyticsplus) (4.34.4)\n",
      "Requirement already satisfied: kiwisolver>=1.0.1 in c:\\users\\admin\\anaconda3\\envs\\sdaai\\lib\\site-packages (from matplotlib>=3.2.2->ultralytics<8.0.44,>=8.0.43->ultralyticsplus) (1.4.3)\n",
      "Requirement already satisfied: urllib3<1.27,>=1.21.1 in c:\\users\\admin\\anaconda3\\envs\\sdaai\\lib\\site-packages (from requests->huggingface-hub>=0.12.0->ultralyticsplus) (1.26.15)\n",
      "Requirement already satisfied: idna<4,>=2.5 in c:\\users\\admin\\anaconda3\\envs\\sdaai\\lib\\site-packages (from requests->huggingface-hub>=0.12.0->ultralyticsplus) (3.3)\n",
      "Requirement already satisfied: charset-normalizer<3,>=2 in c:\\users\\admin\\anaconda3\\envs\\sdaai\\lib\\site-packages (from requests->huggingface-hub>=0.12.0->ultralyticsplus) (2.1.0)\n",
      "Requirement already satisfied: certifi>=2017.4.17 in c:\\users\\admin\\anaconda3\\envs\\sdaai\\lib\\site-packages (from requests->huggingface-hub>=0.12.0->ultralyticsplus) (2022.6.15)\n",
      "Requirement already satisfied: google-auth<3,>=1.6.3 in c:\\users\\admin\\anaconda3\\envs\\sdaai\\lib\\site-packages (from tensorboard>=2.4.1->ultralytics<8.0.44,>=8.0.43->ultralyticsplus) (2.9.1)\n",
      "Requirement already satisfied: setuptools>=41.0.0 in c:\\users\\admin\\anaconda3\\envs\\sdaai\\lib\\site-packages (from tensorboard>=2.4.1->ultralytics<8.0.44,>=8.0.43->ultralyticsplus) (67.6.1)\n",
      "Requirement already satisfied: werkzeug>=1.0.1 in c:\\users\\admin\\anaconda3\\envs\\sdaai\\lib\\site-packages (from tensorboard>=2.4.1->ultralytics<8.0.44,>=8.0.43->ultralyticsplus) (2.1.2)\n",
      "Requirement already satisfied: google-auth-oauthlib<0.5,>=0.4.1 in c:\\users\\admin\\anaconda3\\envs\\sdaai\\lib\\site-packages (from tensorboard>=2.4.1->ultralytics<8.0.44,>=8.0.43->ultralyticsplus) (0.4.6)\n",
      "Requirement already satisfied: tensorboard-data-server<0.7.0,>=0.6.0 in c:\\users\\admin\\anaconda3\\envs\\sdaai\\lib\\site-packages (from tensorboard>=2.4.1->ultralytics<8.0.44,>=8.0.43->ultralyticsplus) (0.6.1)\n",
      "Requirement already satisfied: markdown>=2.6.8 in c:\\users\\admin\\anaconda3\\envs\\sdaai\\lib\\site-packages (from tensorboard>=2.4.1->ultralytics<8.0.44,>=8.0.43->ultralyticsplus) (3.3.7)\n",
      "Requirement already satisfied: tensorboard-plugin-wit>=1.6.0 in c:\\users\\admin\\anaconda3\\envs\\sdaai\\lib\\site-packages (from tensorboard>=2.4.1->ultralytics<8.0.44,>=8.0.43->ultralyticsplus) (1.8.1)\n",
      "Requirement already satisfied: protobuf<3.20,>=3.9.2 in c:\\users\\admin\\anaconda3\\envs\\sdaai\\lib\\site-packages (from tensorboard>=2.4.1->ultralytics<8.0.44,>=8.0.43->ultralyticsplus) (3.19.4)\n",
      "Requirement already satisfied: grpcio>=1.24.3 in c:\\users\\admin\\anaconda3\\envs\\sdaai\\lib\\site-packages (from tensorboard>=2.4.1->ultralytics<8.0.44,>=8.0.43->ultralyticsplus) (1.47.0)\n",
      "Requirement already satisfied: absl-py>=0.4 in c:\\users\\admin\\anaconda3\\envs\\sdaai\\lib\\site-packages (from tensorboard>=2.4.1->ultralytics<8.0.44,>=8.0.43->ultralyticsplus) (1.1.0)\n",
      "Requirement already satisfied: sympy in c:\\users\\admin\\anaconda3\\envs\\sdaai\\lib\\site-packages (from torch>=1.7.0->ultralytics<8.0.44,>=8.0.43->ultralyticsplus) (1.11.1)\n",
      "Requirement already satisfied: jinja2 in c:\\users\\admin\\anaconda3\\envs\\sdaai\\lib\\site-packages (from torch>=1.7.0->ultralytics<8.0.44,>=8.0.43->ultralyticsplus) (3.1.2)\n",
      "Requirement already satisfied: networkx in c:\\users\\admin\\anaconda3\\envs\\sdaai\\lib\\site-packages (from torch>=1.7.0->ultralytics<8.0.44,>=8.0.43->ultralyticsplus) (3.1)\n",
      "Requirement already satisfied: rsa<5,>=3.1.4 in c:\\users\\admin\\anaconda3\\envs\\sdaai\\lib\\site-packages (from google-auth<3,>=1.6.3->tensorboard>=2.4.1->ultralytics<8.0.44,>=8.0.43->ultralyticsplus) (4.8)\n",
      "Requirement already satisfied: cachetools<6.0,>=2.0.0 in c:\\users\\admin\\anaconda3\\envs\\sdaai\\lib\\site-packages (from google-auth<3,>=1.6.3->tensorboard>=2.4.1->ultralytics<8.0.44,>=8.0.43->ultralyticsplus) (5.2.0)\n",
      "Requirement already satisfied: pyasn1-modules>=0.2.1 in c:\\users\\admin\\anaconda3\\envs\\sdaai\\lib\\site-packages (from google-auth<3,>=1.6.3->tensorboard>=2.4.1->ultralytics<8.0.44,>=8.0.43->ultralyticsplus) (0.2.8)\n",
      "Requirement already satisfied: requests-oauthlib>=0.7.0 in c:\\users\\admin\\anaconda3\\envs\\sdaai\\lib\\site-packages (from google-auth-oauthlib<0.5,>=0.4.1->tensorboard>=2.4.1->ultralytics<8.0.44,>=8.0.43->ultralyticsplus) (1.3.1)\n",
      "Requirement already satisfied: importlib-metadata>=4.4 in c:\\users\\admin\\anaconda3\\envs\\sdaai\\lib\\site-packages (from markdown>=2.6.8->tensorboard>=2.4.1->ultralytics<8.0.44,>=8.0.43->ultralyticsplus) (4.12.0)\n",
      "Requirement already satisfied: MarkupSafe>=2.0 in c:\\users\\admin\\anaconda3\\envs\\sdaai\\lib\\site-packages (from jinja2->torch>=1.7.0->ultralytics<8.0.44,>=8.0.43->ultralyticsplus) (2.1.1)\n",
      "Requirement already satisfied: mpmath>=0.19 in c:\\users\\admin\\anaconda3\\envs\\sdaai\\lib\\site-packages (from sympy->torch>=1.7.0->ultralytics<8.0.44,>=8.0.43->ultralyticsplus) (1.3.0)\n",
      "Requirement already satisfied: zipp>=0.5 in c:\\users\\admin\\anaconda3\\envs\\sdaai\\lib\\site-packages (from importlib-metadata>=4.4->markdown>=2.6.8->tensorboard>=2.4.1->ultralytics<8.0.44,>=8.0.43->ultralyticsplus) (3.8.1)\n",
      "Requirement already satisfied: pyasn1<0.5.0,>=0.4.6 in c:\\users\\admin\\anaconda3\\envs\\sdaai\\lib\\site-packages (from pyasn1-modules>=0.2.1->google-auth<3,>=1.6.3->tensorboard>=2.4.1->ultralytics<8.0.44,>=8.0.43->ultralyticsplus) (0.4.8)\n",
      "Requirement already satisfied: oauthlib>=3.0.0 in c:\\users\\admin\\anaconda3\\envs\\sdaai\\lib\\site-packages (from requests-oauthlib>=0.7.0->google-auth-oauthlib<0.5,>=0.4.1->tensorboard>=2.4.1->ultralytics<8.0.44,>=8.0.43->ultralyticsplus) (3.2.0)\n",
      "Note: you may need to restart the kernel to use updated packages.\n"
     ]
    }
   ],
   "source": [
    "pip install ultralyticsplus"
   ]
  },
  {
   "cell_type": "code",
   "execution_count": 2,
   "id": "sJx595MZmMRF",
   "metadata": {
    "colab": {
     "base_uri": "https://localhost:8080/"
    },
    "id": "sJx595MZmMRF",
    "outputId": "b056f252-0cf6-46bb-9788-51bd6b247c42"
   },
   "outputs": [
    {
     "name": "stderr",
     "output_type": "stream",
     "text": [
      "Using cache found in C:\\Users\\Admin/.cache\\torch\\hub\\ultralytics_yolov5_master\n",
      "\u001b[31m\u001b[1mrequirements:\u001b[0m YOLOv5 requirements \"gitpython>=3.1.30\" \"setuptools>=65.5.1\" not found, attempting AutoUpdate...\n",
      "Collecting gitpython>=3.1.30\n",
      "  Using cached GitPython-3.1.31-py3-none-any.whl (184 kB)\n",
      "Collecting setuptools>=65.5.1\n",
      "  Downloading setuptools-67.6.1-py3-none-any.whl (1.1 MB)\n",
      "     ---------------------------------------- 1.1/1.1 MB 9.9 MB/s eta 0:00:00\n",
      "Collecting gitdb<5,>=4.0.1\n",
      "  Using cached gitdb-4.0.10-py3-none-any.whl (62 kB)\n",
      "Collecting smmap<6,>=3.0.1\n",
      "  Using cached smmap-5.0.0-py3-none-any.whl (24 kB)\n",
      "Installing collected packages: smmap, setuptools, gitdb, gitpython\n",
      "  Attempting uninstall: setuptools\n",
      "    Found existing installation: setuptools 61.2.0\n",
      "    Uninstalling setuptools-61.2.0:\n",
      "      Successfully uninstalled setuptools-61.2.0\n",
      "Successfully installed gitdb-4.0.10 gitpython-3.1.31 setuptools-67.6.1 smmap-5.0.0\n",
      "\n",
      "\u001b[31m\u001b[1mrequirements:\u001b[0m 2 packages updated per C:\\Users\\Admin\\.cache\\torch\\hub\\ultralytics_yolov5_master\\requirements.txt\n",
      "\u001b[31m\u001b[1mrequirements:\u001b[0m  \u001b[1mRestart runtime or rerun command for updates to take effect\u001b[0m\n",
      "\n",
      "YOLOv5  2023-4-5 Python-3.8.13 torch-2.0.0+cpu CPU\n",
      "\n",
      "Fusing layers... \n",
      "YOLOv5s summary: 213 layers, 7225885 parameters, 0 gradients\n",
      "Adding AutoShape... \n"
     ]
    }
   ],
   "source": [
    "import torch\n",
    "import cv2\n",
    "# Model\n",
    "model = torch.hub.load('ultralytics/yolov5', 'yolov5s') "
   ]
  },
  {
   "cell_type": "code",
   "execution_count": null,
   "id": "UaBoz7FrjTtG",
   "metadata": {
    "colab": {
     "base_uri": "https://localhost:8080/"
    },
    "id": "UaBoz7FrjTtG",
    "outputId": "4798c809-9842-4221-df2d-af4e0eb0e49e"
   },
   "outputs": [],
   "source": [
    "#image_path = DataFolder+\"/Safety Hat/Images/hard_hat_workers0.png\" # or file, Path, PIL, OpenCV, numpy, list\n",
    "image_path = DataFolder+\"/Safety-Hat/Images/Helmet-Example01.jpg\"\n",
    "\n",
    "# Inference\n",
    "results = model(image_path) \n",
    "\n",
    "# Results\n",
    "results.print()  # or .show(), .save(), .crop(), .pandas(), etc."
   ]
  },
  {
   "cell_type": "code",
   "execution_count": null,
   "id": "eihFAsSlon6O",
   "metadata": {
    "colab": {
     "base_uri": "https://localhost:8080/",
     "height": 831
    },
    "id": "eihFAsSlon6O",
    "outputId": "2875db12-6b27-449b-dfcb-0f384639827e"
   },
   "outputs": [],
   "source": [
    "results.show()\n",
    "print(results.pandas().xyxy[0])\n",
    "\n",
    "for i in range(len(results.pandas().xyxy[0].name)):\n",
    "    print(\"Object\",i,results.pandas().xyxy[0].name[i])"
   ]
  },
  {
   "cell_type": "code",
   "execution_count": 6,
   "id": "810d6b94",
   "metadata": {
    "colab": {
     "base_uri": "https://localhost:8080/",
     "height": 886
    },
    "id": "810d6b94",
    "outputId": "e62dfc39-6f36-4fcb-e863-7e36370b47dd"
   },
   "outputs": [
    {
     "data": {
      "application/vnd.jupyter.widget-view+json": {
       "model_id": "76f205bb6d1742cca252403650733205",
       "version_major": 2,
       "version_minor": 0
      },
      "text/plain": [
       "Downloading (…)lve/main/config.json:   0%|          | 0.00/161 [00:00<?, ?B/s]"
      ]
     },
     "metadata": {},
     "output_type": "display_data"
    },
    {
     "name": "stderr",
     "output_type": "stream",
     "text": [
      "C:\\Users\\Admin\\anaconda3\\lib\\site-packages\\huggingface_hub\\file_download.py:133: UserWarning: `huggingface_hub` cache-system uses symlinks by default to efficiently store duplicated files but your machine does not support them in C:\\Users\\Admin\\.cache\\huggingface\\hub. Caching files will still work but in a degraded version that might require more space on your disk. This warning can be disabled by setting the `HF_HUB_DISABLE_SYMLINKS_WARNING` environment variable. For more details, see https://huggingface.co/docs/huggingface_hub/how-to-cache#limitations.\n",
      "To support symlinks on Windows, you either need to activate Developer Mode or to run Python as an administrator. In order to see activate developer mode, see this article: https://docs.microsoft.com/en-us/windows/apps/get-started/enable-your-device-for-development\n",
      "  warnings.warn(message)\n"
     ]
    },
    {
     "data": {
      "application/vnd.jupyter.widget-view+json": {
       "model_id": "26b86f97bfb04dbb89821fc4a1b90279",
       "version_major": 2,
       "version_minor": 0
      },
      "text/plain": [
       "Downloading best.pt:   0%|          | 0.00/52.0M [00:00<?, ?B/s]"
      ]
     },
     "metadata": {},
     "output_type": "display_data"
    },
    {
     "ename": "NameError",
     "evalue": "name 'image_path' is not defined",
     "output_type": "error",
     "traceback": [
      "\u001b[1;31m---------------------------------------------------------------------------\u001b[0m",
      "\u001b[1;31mNameError\u001b[0m                                 Traceback (most recent call last)",
      "Input \u001b[1;32mIn [6]\u001b[0m, in \u001b[0;36m<cell line: 18>\u001b[1;34m()\u001b[0m\n\u001b[0;32m     10\u001b[0m model\u001b[38;5;241m.\u001b[39moverrides[\u001b[38;5;124m'\u001b[39m\u001b[38;5;124mmax_det\u001b[39m\u001b[38;5;124m'\u001b[39m] \u001b[38;5;241m=\u001b[39m \u001b[38;5;241m1000\u001b[39m  \u001b[38;5;66;03m# maximum number of detections per image\u001b[39;00m\n\u001b[0;32m     12\u001b[0m \u001b[38;5;66;03m# set image\u001b[39;00m\n\u001b[0;32m     13\u001b[0m \u001b[38;5;66;03m#image = 'https://github.com/RP-SDAAI/Capstone-Project/blob/72573878f2546c1c2984c3e1006ef8e7c72672ec/Helmet-Example01.jpg'\u001b[39;00m\n\u001b[0;32m     14\u001b[0m \n\u001b[0;32m     15\u001b[0m \u001b[38;5;66;03m#image = 'https://github.com/ultralytics/yolov5/raw/master/data/images/zidane.jpg'\u001b[39;00m\n\u001b[0;32m     16\u001b[0m \n\u001b[0;32m     17\u001b[0m \u001b[38;5;66;03m# perform inference\u001b[39;00m\n\u001b[1;32m---> 18\u001b[0m results \u001b[38;5;241m=\u001b[39m model\u001b[38;5;241m.\u001b[39mpredict(\u001b[43mimage_path\u001b[49m)\n\u001b[0;32m     20\u001b[0m \u001b[38;5;66;03m# observe results\u001b[39;00m\n\u001b[0;32m     21\u001b[0m \u001b[38;5;28mprint\u001b[39m(results[\u001b[38;5;241m0\u001b[39m]\u001b[38;5;241m.\u001b[39mboxes)\n",
      "\u001b[1;31mNameError\u001b[0m: name 'image_path' is not defined"
     ]
    }
   ],
   "source": [
    "from ultralyticsplus import YOLO, render_result\n",
    "\n",
    "# load model\n",
    "model = YOLO('keremberke/yolov8m-hard-hat-detection')\n",
    "\n",
    "# set model parameters\n",
    "model.overrides['conf'] = 0.25  # NMS confidence threshold\n",
    "model.overrides['iou'] = 0.45  # NMS IoU threshold\n",
    "model.overrides['agnostic_nms'] = False  # NMS class-agnostic\n",
    "model.overrides['max_det'] = 1000  # maximum number of detections per image\n",
    "\n",
    "# set image\n",
    "#image = 'https://github.com/RP-SDAAI/Capstone-Project/blob/72573878f2546c1c2984c3e1006ef8e7c72672ec/Helmet-Example01.jpg'\n",
    "\n",
    "#image = 'https://github.com/ultralytics/yolov5/raw/master/data/images/zidane.jpg'\n",
    "\n",
    "# perform inference\n",
    "results = model.predict(image_path)\n",
    "\n",
    "# observe results\n",
    "print(results[0].boxes)\n",
    "render = render_result(model=model, image=image_path, result=results[0])\n",
    "render.show()"
   ]
  },
  {
   "cell_type": "markdown",
   "id": "k0HWQ1MO4vUK",
   "metadata": {
    "id": "k0HWQ1MO4vUK"
   },
   "source": [
    "## Camera Capture  \n",
    "### Using a webcam to capture images for processing on the runtime."
   ]
  },
  {
   "cell_type": "code",
   "execution_count": null,
   "id": "Usyq_XqTdW2o",
   "metadata": {
    "id": "Usyq_XqTdW2o"
   },
   "outputs": [],
   "source": [
    "from IPython.display import display, Javascript\n",
    "from google.colab.output import eval_js\n",
    "from base64 import b64decode\n",
    "\n",
    "def take_photo(filename='photo.jpg', quality=0.8):\n",
    "  js = Javascript('''\n",
    "    async function takePhoto(quality) {\n",
    "      const div = document.createElement('div');\n",
    "      const capture = document.createElement('button');\n",
    "      capture.textContent = 'Capture';\n",
    "      div.appendChild(capture);\n",
    "\n",
    "      const video = document.createElement('video');\n",
    "      video.style.display = 'block';\n",
    "      const stream = await navigator.mediaDevices.getUserMedia({video: true});\n",
    "\n",
    "      document.body.appendChild(div);\n",
    "      div.appendChild(video);\n",
    "      video.srcObject = stream;\n",
    "      await video.play();\n",
    "\n",
    "      // Resize the output to fit the video element.\n",
    "      google.colab.output.setIframeHeight(document.documentElement.scrollHeight, true);\n",
    "\n",
    "      // Wait for Capture to be clicked.\n",
    "      await new Promise((resolve) => capture.onclick = resolve);\n",
    "\n",
    "      const canvas = document.createElement('canvas');\n",
    "      canvas.width = video.videoWidth;\n",
    "      canvas.height = video.videoHeight;\n",
    "      canvas.getContext('2d').drawImage(video, 0, 0);\n",
    "      stream.getVideoTracks()[0].stop();\n",
    "      div.remove();\n",
    "      return canvas.toDataURL('image/jpeg', quality);\n",
    "    }\n",
    "    ''')\n",
    "  display(js)\n",
    "  data = eval_js('takePhoto({})'.format(quality))\n",
    "  binary = b64decode(data.split(',')[1])\n",
    "  with open(filename, 'wb') as f:\n",
    "    f.write(binary)\n",
    "  return filename"
   ]
  },
  {
   "cell_type": "code",
   "execution_count": null,
   "id": "6T5YsxJKds3G",
   "metadata": {
    "colab": {
     "base_uri": "https://localhost:8080/",
     "height": 515
    },
    "id": "6T5YsxJKds3G",
    "outputId": "c52fbeb1-0c22-4c8f-e160-1438b94bdde9"
   },
   "outputs": [],
   "source": [
    "from IPython.display import Image\n",
    "try:\n",
    "  filename = take_photo()\n",
    "  print('Saved to {}'.format(filename))\n",
    "  \n",
    "  # Show the image which was just taken.\n",
    "  display(Image(filename))\n",
    "except Exception as err:\n",
    "  # Errors will be thrown if the user does not have a webcam or if they do not\n",
    "  # grant the page permission to access it.\n",
    "  print(str(err))"
   ]
  },
  {
   "cell_type": "code",
   "execution_count": 1,
   "id": "xoMxZCjbd3vW",
   "metadata": {
    "colab": {
     "base_uri": "https://localhost:8080/",
     "height": 413
    },
    "id": "xoMxZCjbd3vW",
    "outputId": "20f3ce92-0b5b-49aa-dab6-d9f51788401f"
   },
   "outputs": [
    {
     "ename": "ModuleNotFoundError",
     "evalue": "No module named 'ultralyticsplus'",
     "output_type": "error",
     "traceback": [
      "\u001b[1;31m---------------------------------------------------------------------------\u001b[0m",
      "\u001b[1;31mModuleNotFoundError\u001b[0m                       Traceback (most recent call last)",
      "Input \u001b[1;32mIn [1]\u001b[0m, in \u001b[0;36m<cell line: 1>\u001b[1;34m()\u001b[0m\n\u001b[1;32m----> 1\u001b[0m \u001b[38;5;28;01mfrom\u001b[39;00m \u001b[38;5;21;01multralyticsplus\u001b[39;00m \u001b[38;5;28;01mimport\u001b[39;00m YOLO, render_result\n\u001b[0;32m      3\u001b[0m \u001b[38;5;28;01mdef\u001b[39;00m \u001b[38;5;21msafety_helmet\u001b[39m():\n\u001b[0;32m      4\u001b[0m \n\u001b[0;32m      5\u001b[0m     \u001b[38;5;66;03m# load model\u001b[39;00m\n\u001b[0;32m      6\u001b[0m     model \u001b[38;5;241m=\u001b[39m YOLO(\u001b[38;5;124m'\u001b[39m\u001b[38;5;124mkeremberke/yolov8m-hard-hat-detection\u001b[39m\u001b[38;5;124m'\u001b[39m)\n",
      "\u001b[1;31mModuleNotFoundError\u001b[0m: No module named 'ultralyticsplus'"
     ]
    }
   ],
   "source": [
    "from ultralyticsplus import YOLO, render_result\n",
    "\n",
    "def safety_helmet():\n",
    "\n",
    "    # load model\n",
    "    model = YOLO('keremberke/yolov8m-hard-hat-detection')\n",
    "\n",
    "    # set model parameters\n",
    "    model.overrides['conf'] = 0.25  # NMS confidence threshold\n",
    "    model.overrides['iou'] = 0.45  # NMS IoU threshold\n",
    "    model.overrides['agnostic_nms'] = False  # NMS class-agnostic\n",
    "    model.overrides['max_det'] = 1000  # maximum number of detections per image\n",
    "\n",
    "# set image\n",
    "#image = 'https://github.com/RP-SDAAI/Capstone-Project/blob/72573878f2546c1c2984c3e1006ef8e7c72672ec/Helmet-Example01.jpg'\n",
    "\n",
    "#image = 'https://github.com/ultralytics/yolov5/raw/master/data/images/zidane.jpg'\n",
    "\n",
    "# perform inference\n",
    "#results = model.predict(image_path)\n",
    "    results = model.predict(filename)\n",
    "\n",
    "#    self.assertEqual(array.shape, (1, 224, 224, 3))\n",
    "\n",
    "# observe results\n",
    "    print(results[0].boxes)\n",
    "    render = render_result(model=model, image=filename, result=results[0])\n",
    "    render.show()\n",
    "\n",
    "\n",
    "safety_helmet()\n",
    "\n",
    "\n",
    "## deploy in actual scenario, i need a device to run the code. (e.g. raspberry pi, nano jetson. laptop)\n",
    "## run python (*.py) locally for streaming video"
   ]
  },
  {
   "cell_type": "code",
   "execution_count": 1,
   "id": "005f0724",
   "metadata": {},
   "outputs": [],
   "source": [
    "from ultralyticsplus import YOLO, render_result\n",
    "\n",
    "def safety_helmet01(frame):\n",
    "\n",
    "    # load model\n",
    "    model = YOLO('keremberke/yolov8m-hard-hat-detection')\n",
    "\n",
    "    # set model parameters\n",
    "    model.overrides['conf'] = 0.25  # NMS confidence threshold\n",
    "    model.overrides['iou'] = 0.45  # NMS IoU threshold\n",
    "    model.overrides['agnostic_nms'] = False  # NMS class-agnostic\n",
    "    model.overrides['max_det'] = 1000  # maximum number of detections per image\n",
    "\n",
    "# perform inference\n",
    "#results = model.predict(image_path)\n",
    "    results = model.predict(frame)\n",
    "\n",
    "#    self.assertEqual(array.shape, (1, 224, 224, 3))\n",
    "\n",
    "# observe results\n",
    "    print(results[0].boxes)\n",
    "    render = render_result(model=model, image=frame, result=results[0])\n",
    "    \n",
    "    predict_image = model(render)\n",
    "    im_rgb = cv2.cvtColor(predict_image.imgs[0], cv2.COLOR_BGR2RGB) # Because of OpenCV reading images as BGR\n",
    "    cv2_imshow(im_rgb)\n",
    "    \n",
    "    im_rgb.show()\n",
    "    #render.show()\n",
    "    #return render\n",
    "\n",
    "\n",
    "#safety_helmet()\n",
    "\n",
    "\n",
    "## deploy in actual scenario, i need a device to run the code. (e.g. raspberry pi, nano jetson. laptop)\n",
    "## run python (*.py) locally for streaming video"
   ]
  },
  {
   "cell_type": "markdown",
   "id": "iLaypxEz4dNJ",
   "metadata": {
    "id": "iLaypxEz4dNJ"
   },
   "source": [
    "#Need help to get working code for streaming video on google colab\n",
    "\n",
    "Need to run streaming in local hardware e.g. jupyter notebook"
   ]
  },
  {
   "cell_type": "code",
   "execution_count": null,
   "id": "09VDWx93EHj0",
   "metadata": {
    "id": "09VDWx93EHj0"
   },
   "outputs": [
    {
     "name": "stdout",
     "output_type": "stream",
     "text": [
      "True\n"
     ]
    },
    {
     "name": "stderr",
     "output_type": "stream",
     "text": [
      "Ultralytics YOLOv8.0.43  Python-3.8.13 torch-2.0.0+cpu CPU\n",
      "Model summary (fused): 218 layers, 25840918 parameters, 0 gradients, 78.7 GFLOPs\n",
      "\n",
      "0: 480x640 1 NO-Hardhat, 312.8ms\n",
      "Speed: 0.0ms preprocess, 312.8ms inference, 1.0ms postprocess per image at shape (1, 3, 640, 640)\n",
      "\n"
     ]
    },
    {
     "name": "stdout",
     "output_type": "stream",
     "text": [
      "tensor([[301.00000, 110.00000, 502.00000, 399.00000,   0.78402,   1.00000]])\n"
     ]
    },
    {
     "name": "stderr",
     "output_type": "stream",
     "text": [
      "0: 480x640 1 NO-Hardhat, 297.5ms\n",
      "Speed: 0.0ms preprocess, 297.5ms inference, 0.0ms postprocess per image at shape (1, 3, 640, 640)\n"
     ]
    },
    {
     "name": "stdout",
     "output_type": "stream",
     "text": [
      "True\n"
     ]
    },
    {
     "name": "stderr",
     "output_type": "stream",
     "text": [
      "Ultralytics YOLOv8.0.43  Python-3.8.13 torch-2.0.0+cpu CPU\n",
      "Model summary (fused): 218 layers, 25840918 parameters, 0 gradients, 78.7 GFLOPs\n",
      "\n",
      "0: 480x640 1 NO-Hardhat, 639.2ms\n",
      "Speed: 2.6ms preprocess, 639.2ms inference, 2.0ms postprocess per image at shape (1, 3, 640, 640)\n",
      "\n"
     ]
    },
    {
     "name": "stdout",
     "output_type": "stream",
     "text": [
      "tensor([[300.00000, 110.00000, 500.00000, 399.00000,   0.79659,   1.00000]])\n"
     ]
    },
    {
     "name": "stderr",
     "output_type": "stream",
     "text": [
      "0: 480x640 1 NO-Hardhat, 888.7ms\n",
      "Speed: 1.9ms preprocess, 888.7ms inference, 0.0ms postprocess per image at shape (1, 3, 640, 640)\n"
     ]
    },
    {
     "name": "stdout",
     "output_type": "stream",
     "text": [
      "True\n"
     ]
    },
    {
     "name": "stderr",
     "output_type": "stream",
     "text": [
      "Ultralytics YOLOv8.0.43  Python-3.8.13 torch-2.0.0+cpu CPU\n",
      "Model summary (fused): 218 layers, 25840918 parameters, 0 gradients, 78.7 GFLOPs\n",
      "\n",
      "0: 480x640 1 NO-Hardhat, 461.2ms\n",
      "Speed: 0.0ms preprocess, 461.2ms inference, 1.0ms postprocess per image at shape (1, 3, 640, 640)\n",
      "\n"
     ]
    },
    {
     "name": "stdout",
     "output_type": "stream",
     "text": [
      "tensor([[325.00000,  90.00000, 536.00000, 391.00000,   0.78939,   1.00000]])\n"
     ]
    },
    {
     "name": "stderr",
     "output_type": "stream",
     "text": [
      "0: 480x640 1 NO-Hardhat, 461.5ms\n",
      "Speed: 2.0ms preprocess, 461.5ms inference, 0.0ms postprocess per image at shape (1, 3, 640, 640)\n"
     ]
    },
    {
     "name": "stdout",
     "output_type": "stream",
     "text": [
      "True\n"
     ]
    },
    {
     "name": "stderr",
     "output_type": "stream",
     "text": [
      "Ultralytics YOLOv8.0.43  Python-3.8.13 torch-2.0.0+cpu CPU\n",
      "Model summary (fused): 218 layers, 25840918 parameters, 0 gradients, 78.7 GFLOPs\n",
      "\n",
      "0: 480x640 1 NO-Hardhat, 428.8ms\n",
      "Speed: 1.0ms preprocess, 428.8ms inference, 0.0ms postprocess per image at shape (1, 3, 640, 640)\n",
      "\n"
     ]
    },
    {
     "name": "stdout",
     "output_type": "stream",
     "text": [
      "tensor([[302.00000, 101.00000, 500.00000, 394.00000,   0.75985,   1.00000]])\n"
     ]
    },
    {
     "name": "stderr",
     "output_type": "stream",
     "text": [
      "0: 480x640 1 NO-Hardhat, 461.5ms\n",
      "Speed: 0.0ms preprocess, 461.5ms inference, 0.0ms postprocess per image at shape (1, 3, 640, 640)\n"
     ]
    },
    {
     "name": "stdout",
     "output_type": "stream",
     "text": [
      "True\n"
     ]
    },
    {
     "name": "stderr",
     "output_type": "stream",
     "text": [
      "Ultralytics YOLOv8.0.43  Python-3.8.13 torch-2.0.0+cpu CPU\n",
      "Model summary (fused): 218 layers, 25840918 parameters, 0 gradients, 78.7 GFLOPs\n",
      "\n",
      "0: 480x640 1 NO-Hardhat, 290.8ms\n",
      "Speed: 1.3ms preprocess, 290.8ms inference, 0.0ms postprocess per image at shape (1, 3, 640, 640)\n",
      "\n"
     ]
    },
    {
     "name": "stdout",
     "output_type": "stream",
     "text": [
      "tensor([[302.00000, 103.00000, 501.00000, 395.00000,   0.75974,   1.00000]])\n"
     ]
    },
    {
     "name": "stderr",
     "output_type": "stream",
     "text": [
      "0: 480x640 1 NO-Hardhat, 309.0ms\n",
      "Speed: 0.0ms preprocess, 309.0ms inference, 0.0ms postprocess per image at shape (1, 3, 640, 640)\n"
     ]
    },
    {
     "name": "stdout",
     "output_type": "stream",
     "text": [
      "True\n"
     ]
    },
    {
     "name": "stderr",
     "output_type": "stream",
     "text": [
      "Ultralytics YOLOv8.0.43  Python-3.8.13 torch-2.0.0+cpu CPU\n",
      "Model summary (fused): 218 layers, 25840918 parameters, 0 gradients, 78.7 GFLOPs\n",
      "\n",
      "0: 480x640 1 NO-Hardhat, 339.9ms\n",
      "Speed: 3.1ms preprocess, 339.9ms inference, 1.0ms postprocess per image at shape (1, 3, 640, 640)\n",
      "\n"
     ]
    },
    {
     "name": "stdout",
     "output_type": "stream",
     "text": [
      "tensor([[303.00000, 100.00000, 503.00000, 393.00000,   0.73136,   1.00000]])\n"
     ]
    },
    {
     "name": "stderr",
     "output_type": "stream",
     "text": [
      "0: 480x640 1 NO-Hardhat, 331.3ms\n",
      "Speed: 2.0ms preprocess, 331.3ms inference, 0.0ms postprocess per image at shape (1, 3, 640, 640)\n"
     ]
    },
    {
     "name": "stdout",
     "output_type": "stream",
     "text": [
      "True\n"
     ]
    },
    {
     "name": "stderr",
     "output_type": "stream",
     "text": [
      "Ultralytics YOLOv8.0.43  Python-3.8.13 torch-2.0.0+cpu CPU\n",
      "Model summary (fused): 218 layers, 25840918 parameters, 0 gradients, 78.7 GFLOPs\n",
      "\n",
      "0: 480x640 1 NO-Hardhat, 328.7ms\n",
      "Speed: 0.0ms preprocess, 328.7ms inference, 1.0ms postprocess per image at shape (1, 3, 640, 640)\n",
      "\n"
     ]
    },
    {
     "name": "stdout",
     "output_type": "stream",
     "text": [
      "tensor([[303.00000, 104.00000, 503.00000, 397.00000,   0.78032,   1.00000]])\n"
     ]
    },
    {
     "name": "stderr",
     "output_type": "stream",
     "text": [
      "0: 480x640 1 NO-Hardhat, 322.1ms\n",
      "Speed: 1.0ms preprocess, 322.1ms inference, 1.0ms postprocess per image at shape (1, 3, 640, 640)\n"
     ]
    },
    {
     "name": "stdout",
     "output_type": "stream",
     "text": [
      "True\n"
     ]
    },
    {
     "name": "stderr",
     "output_type": "stream",
     "text": [
      "Ultralytics YOLOv8.0.43  Python-3.8.13 torch-2.0.0+cpu CPU\n",
      "Model summary (fused): 218 layers, 25840918 parameters, 0 gradients, 78.7 GFLOPs\n",
      "\n",
      "0: 480x640 1 NO-Hardhat, 302.2ms\n",
      "Speed: 0.0ms preprocess, 302.2ms inference, 0.0ms postprocess per image at shape (1, 3, 640, 640)\n",
      "\n"
     ]
    },
    {
     "name": "stdout",
     "output_type": "stream",
     "text": [
      "tensor([[303.00000, 102.00000, 502.00000, 396.00000,   0.76289,   1.00000]])\n"
     ]
    },
    {
     "name": "stderr",
     "output_type": "stream",
     "text": [
      "0: 480x640 1 NO-Hardhat, 300.6ms\n",
      "Speed: 1.1ms preprocess, 300.6ms inference, 2.0ms postprocess per image at shape (1, 3, 640, 640)\n"
     ]
    },
    {
     "name": "stdout",
     "output_type": "stream",
     "text": [
      "True\n"
     ]
    },
    {
     "name": "stderr",
     "output_type": "stream",
     "text": [
      "Ultralytics YOLOv8.0.43  Python-3.8.13 torch-2.0.0+cpu CPU\n",
      "Model summary (fused): 218 layers, 25840918 parameters, 0 gradients, 78.7 GFLOPs\n",
      "\n",
      "0: 480x640 1 NO-Hardhat, 302.3ms\n",
      "Speed: 2.0ms preprocess, 302.3ms inference, 0.0ms postprocess per image at shape (1, 3, 640, 640)\n",
      "\n"
     ]
    },
    {
     "name": "stdout",
     "output_type": "stream",
     "text": [
      "tensor([[302.00000, 104.00000, 501.00000, 397.00000,   0.76954,   1.00000]])\n"
     ]
    },
    {
     "name": "stderr",
     "output_type": "stream",
     "text": [
      "0: 480x640 1 NO-Hardhat, 290.1ms\n",
      "Speed: 0.0ms preprocess, 290.1ms inference, 0.0ms postprocess per image at shape (1, 3, 640, 640)\n"
     ]
    },
    {
     "name": "stdout",
     "output_type": "stream",
     "text": [
      "True\n"
     ]
    },
    {
     "name": "stderr",
     "output_type": "stream",
     "text": [
      "Ultralytics YOLOv8.0.43  Python-3.8.13 torch-2.0.0+cpu CPU\n",
      "Model summary (fused): 218 layers, 25840918 parameters, 0 gradients, 78.7 GFLOPs\n",
      "\n",
      "0: 480x640 1 NO-Hardhat, 279.9ms\n",
      "Speed: 0.0ms preprocess, 279.9ms inference, 0.0ms postprocess per image at shape (1, 3, 640, 640)\n",
      "\n"
     ]
    },
    {
     "name": "stdout",
     "output_type": "stream",
     "text": [
      "tensor([[302.00000, 103.00000, 501.00000, 397.00000,   0.78483,   1.00000]])\n"
     ]
    },
    {
     "name": "stderr",
     "output_type": "stream",
     "text": [
      "0: 480x640 1 NO-Hardhat, 311.4ms\n",
      "Speed: 0.0ms preprocess, 311.4ms inference, 0.0ms postprocess per image at shape (1, 3, 640, 640)\n"
     ]
    },
    {
     "name": "stdout",
     "output_type": "stream",
     "text": [
      "True\n"
     ]
    },
    {
     "name": "stderr",
     "output_type": "stream",
     "text": [
      "Ultralytics YOLOv8.0.43  Python-3.8.13 torch-2.0.0+cpu CPU\n",
      "Model summary (fused): 218 layers, 25840918 parameters, 0 gradients, 78.7 GFLOPs\n",
      "\n",
      "0: 480x640 1 NO-Hardhat, 317.5ms\n",
      "Speed: 2.0ms preprocess, 317.5ms inference, 1.0ms postprocess per image at shape (1, 3, 640, 640)\n",
      "\n"
     ]
    },
    {
     "name": "stdout",
     "output_type": "stream",
     "text": [
      "tensor([[302.00000, 104.00000, 501.00000, 396.00000,   0.77295,   1.00000]])\n"
     ]
    },
    {
     "name": "stderr",
     "output_type": "stream",
     "text": [
      "0: 480x640 1 NO-Hardhat, 326.3ms\n",
      "Speed: 1.0ms preprocess, 326.3ms inference, 1.0ms postprocess per image at shape (1, 3, 640, 640)\n"
     ]
    },
    {
     "name": "stdout",
     "output_type": "stream",
     "text": [
      "True\n"
     ]
    },
    {
     "name": "stderr",
     "output_type": "stream",
     "text": [
      "Ultralytics YOLOv8.0.43  Python-3.8.13 torch-2.0.0+cpu CPU\n",
      "Model summary (fused): 218 layers, 25840918 parameters, 0 gradients, 78.7 GFLOPs\n",
      "\n",
      "0: 480x640 1 NO-Hardhat, 334.3ms\n",
      "Speed: 0.0ms preprocess, 334.3ms inference, 0.0ms postprocess per image at shape (1, 3, 640, 640)\n",
      "\n"
     ]
    },
    {
     "name": "stdout",
     "output_type": "stream",
     "text": [
      "tensor([[302.00000, 106.00000, 500.00000, 397.00000,   0.76026,   1.00000]])\n"
     ]
    },
    {
     "name": "stderr",
     "output_type": "stream",
     "text": [
      "0: 480x640 1 NO-Hardhat, 318.8ms\n",
      "Speed: 0.0ms preprocess, 318.8ms inference, 0.0ms postprocess per image at shape (1, 3, 640, 640)\n"
     ]
    },
    {
     "name": "stdout",
     "output_type": "stream",
     "text": [
      "True\n"
     ]
    },
    {
     "name": "stderr",
     "output_type": "stream",
     "text": [
      "Ultralytics YOLOv8.0.43  Python-3.8.13 torch-2.0.0+cpu CPU\n",
      "Model summary (fused): 218 layers, 25840918 parameters, 0 gradients, 78.7 GFLOPs\n",
      "\n",
      "0: 480x640 1 NO-Hardhat, 322.2ms\n",
      "Speed: 0.0ms preprocess, 322.2ms inference, 0.0ms postprocess per image at shape (1, 3, 640, 640)\n",
      "\n"
     ]
    },
    {
     "name": "stdout",
     "output_type": "stream",
     "text": [
      "tensor([[303.00000, 103.00000, 500.00000, 397.00000,   0.76923,   1.00000]])\n"
     ]
    },
    {
     "name": "stderr",
     "output_type": "stream",
     "text": [
      "0: 480x640 1 NO-Hardhat, 320.2ms\n",
      "Speed: 2.1ms preprocess, 320.2ms inference, 1.0ms postprocess per image at shape (1, 3, 640, 640)\n"
     ]
    },
    {
     "name": "stdout",
     "output_type": "stream",
     "text": [
      "True\n"
     ]
    },
    {
     "name": "stderr",
     "output_type": "stream",
     "text": [
      "Ultralytics YOLOv8.0.43  Python-3.8.13 torch-2.0.0+cpu CPU\n",
      "Model summary (fused): 218 layers, 25840918 parameters, 0 gradients, 78.7 GFLOPs\n",
      "\n",
      "0: 480x640 1 NO-Hardhat, 311.6ms\n",
      "Speed: 0.0ms preprocess, 311.6ms inference, 0.0ms postprocess per image at shape (1, 3, 640, 640)\n",
      "\n"
     ]
    },
    {
     "name": "stdout",
     "output_type": "stream",
     "text": [
      "tensor([[301.00000, 103.00000, 500.00000, 396.00000,   0.75684,   1.00000]])\n"
     ]
    },
    {
     "name": "stderr",
     "output_type": "stream",
     "text": [
      "0: 480x640 1 NO-Hardhat, 308.5ms\n",
      "Speed: 1.0ms preprocess, 308.5ms inference, 1.0ms postprocess per image at shape (1, 3, 640, 640)\n"
     ]
    },
    {
     "name": "stdout",
     "output_type": "stream",
     "text": [
      "True\n"
     ]
    },
    {
     "name": "stderr",
     "output_type": "stream",
     "text": [
      "Ultralytics YOLOv8.0.43  Python-3.8.13 torch-2.0.0+cpu CPU\n",
      "Model summary (fused): 218 layers, 25840918 parameters, 0 gradients, 78.7 GFLOPs\n",
      "\n"
     ]
    }
   ],
   "source": [
    "import cv2\n",
    "\n",
    "vid = cv2.VideoCapture(0) # For streaming links (#0 : Computer Webcam. Otherwise need to know the RTSP Url of the Webcam, or the IP address that connect directly to the CCTV)\n",
    "while True:\n",
    "    rdy,frame = vid.read()\n",
    "    print(rdy)\n",
    "    try:\n",
    "    ##process frame to infer the model\n",
    "        processframe = safety_helmet01(frame)\n",
    "    \n",
    "        cv2.imshow('Video Live IP cam', processframe)\n",
    "        \n",
    "        key = cv2.waitKey(1) & 0xFF\n",
    "        if key ==ord('q'):\n",
    "            break\n",
    "    except:\n",
    "        pass\n",
    "\n",
    "vid.release()\n",
    "cv2.destroyAllWindows()"
   ]
  },
  {
   "cell_type": "code",
   "execution_count": null,
   "id": "8r01bSQV4na3",
   "metadata": {
    "id": "8r01bSQV4na3"
   },
   "outputs": [],
   "source": []
  },
  {
   "cell_type": "markdown",
   "id": "Gv385cYm4ro4",
   "metadata": {
    "id": "Gv385cYm4ro4"
   },
   "source": [
    "#Install Gradio for model deployment  \n",
    "#### Reference: https://github.com/gradio-app/gradio"
   ]
  },
  {
   "cell_type": "code",
   "execution_count": null,
   "id": "193b480e",
   "metadata": {
    "colab": {
     "base_uri": "https://localhost:8080/"
    },
    "id": "193b480e",
    "outputId": "9fc12981-a092-4399-a3ff-94fc206819be"
   },
   "outputs": [],
   "source": [
    "!pip install gradio\n",
    "import gradio as gr"
   ]
  },
  {
   "cell_type": "code",
   "execution_count": null,
   "id": "7JolM_Sc7J2_",
   "metadata": {
    "colab": {
     "base_uri": "https://localhost:8080/",
     "height": 1000
    },
    "id": "7JolM_Sc7J2_",
    "outputId": "2eb3910f-c5cd-449b-bc24-2a178d494d5a"
   },
   "outputs": [],
   "source": [
    "import gradio as gr  (##running streaming video on gradio will incur charge)\n",
    "\n",
    "#def test_preprocessing(self):\n",
    "#        inp = inputs.Webcam(0)\n",
    "#        array = inp.preprocess(BASE64_IMG)\n",
    "#        self.assertEqual(array.shape, (1, 224, 224, 3))\n",
    "\n",
    "\n",
    "##Check with lecturer on the following code ####\n",
    "\n",
    "#demo = gr.Interface(fn=safety_helmet, inputs=\"image\", outputs=\"image\")\n",
    "\n",
    "demo = gr.Interface(fn=safety_helmet, inputs=take_photo(), outputs=safety_helmet())\n",
    "\n",
    "demo.launch(share=True)"
   ]
  },
  {
   "cell_type": "code",
   "execution_count": null,
   "id": "K1IjcYZL4zoY",
   "metadata": {
    "id": "K1IjcYZL4zoY"
   },
   "outputs": [],
   "source": [
    "##Sample Gradio code \n",
    "#import gradio as gr\n",
    "\n",
    "#def greet(name):\n",
    "#    return \"Hello \" + name + \"!\"\n",
    "\n",
    "#demo = gr.Interface(fn=greet, inputs=\"text\", outputs=\"text\")\n",
    "\n",
    "#fn: the function to wrap a UI around\n",
    "#inputs: which component(s) to use for the input (e.g. \"text\", \"image\" or \"audio\")\n",
    "#outputs: which component(s) to use for the output (e.g. \"text\", \"image\" or \"label\")\n",
    "\n",
    "\n",
    "#demo.launch(share=True)\n",
    "\n",
    "\n"
   ]
  }
 ],
 "metadata": {
  "colab": {
   "provenance": []
  },
  "kernelspec": {
   "display_name": "Python 3 (ipykernel)",
   "language": "python",
   "name": "python3"
  },
  "language_info": {
   "codemirror_mode": {
    "name": "ipython",
    "version": 3
   },
   "file_extension": ".py",
   "mimetype": "text/x-python",
   "name": "python",
   "nbconvert_exporter": "python",
   "pygments_lexer": "ipython3",
   "version": "3.8.13"
  }
 },
 "nbformat": 4,
 "nbformat_minor": 5
}
